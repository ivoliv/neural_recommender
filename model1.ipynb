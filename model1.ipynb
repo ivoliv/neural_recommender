{
 "cells": [
  {
   "cell_type": "code",
   "execution_count": 1,
   "metadata": {},
   "outputs": [],
   "source": [
    "import os\n",
    "import pandas as pd\n",
    "import matplotlib.pyplot as plt"
   ]
  },
  {
   "cell_type": "code",
   "execution_count": 2,
   "metadata": {},
   "outputs": [],
   "source": [
    "path = '/Users/ivoliv/data/yoochoose'\n",
    "NUMROWS = 1e6"
   ]
  },
  {
   "cell_type": "code",
   "execution_count": 3,
   "metadata": {},
   "outputs": [
    {
     "name": "stdout",
     "output_type": "stream",
     "text": [
      "total 3754144\n",
      "-rw-r--r--@ 1 ivoliv  staff        3973 Nov  6  2014 dataset-README.txt\n",
      "-rw-r--r--  1 ivoliv  staff    55583744 Nov  5  2014 yoochoose-buys.dat\n",
      "-rw-r--r--  1 ivoliv  staff  1486798186 Nov  5  2014 yoochoose-clicks.dat\n",
      "-rw-r--r--  1 ivoliv  staff   371725851 Nov  5  2014 yoochoose-test.dat\n"
     ]
    }
   ],
   "source": [
    "!ls -l $path"
   ]
  },
  {
   "cell_type": "code",
   "execution_count": 4,
   "metadata": {},
   "outputs": [],
   "source": [
    "def print_uniques(df):\n",
    "    name =[x for x in globals() if globals()[x] is df][0]\n",
    "    print('== {} =='.format(name))\n",
    "    print('{:<15}: {:,}'.format('total obs', len(df)))\n",
    "    print('unique values:')\n",
    "    for c in df.columns:\n",
    "        print(' {:<14}: {:,}'.format(c, len(df[c].unique())))\n",
    "\n",
    "def filter_sessions(table, filter_table):\n",
    "    filter_sessions_ = filter_table['sessionID'].unique()\n",
    "    table = table[table['sessionID'].isin(filter_sessions_)]\n",
    "    return table.sort_values(by=['sessionID', 'timestamp'])"
   ]
  },
  {
   "cell_type": "code",
   "execution_count": 5,
   "metadata": {},
   "outputs": [],
   "source": [
    "clicks = pd.read_csv(os.path.join(path, 'yoochoose-clicks.dat'), header=None, nrows=NUMROWS,\n",
    "                     names=['sessionID', 'timestamp', 'itemID', 'category'])\n",
    "buys = pd.read_csv(os.path.join(path, 'yoochoose-buys.dat'), header=None, nrows=NUMROWS,\n",
    "                   names=['sessionID', 'timestamp', 'itemID', 'price', 'quantity'])"
   ]
  },
  {
   "cell_type": "markdown",
   "metadata": {},
   "source": [
    "### Only keep buy sessions with positive number of items"
   ]
  },
  {
   "cell_type": "code",
   "execution_count": 6,
   "metadata": {},
   "outputs": [],
   "source": [
    "buys = buys[buys['quantity'] > 0]\n",
    "buys=buys.sort_values(by=['sessionID', 'timestamp'])"
   ]
  },
  {
   "cell_type": "markdown",
   "metadata": {},
   "source": [
    "### Only keep click sessions related to positive buys"
   ]
  },
  {
   "cell_type": "code",
   "execution_count": 7,
   "metadata": {},
   "outputs": [
    {
     "name": "stdout",
     "output_type": "stream",
     "text": [
      "== clicks ==\n",
      "total obs      : 115,338\n",
      "unique values:\n",
      " sessionID     : 16,551\n",
      " timestamp     : 115,321\n",
      " itemID        : 9,038\n",
      " category      : 1\n"
     ]
    }
   ],
   "source": [
    "clicks = filter_sessions(clicks, buys)\n",
    "print_uniques(clicks)"
   ]
  },
  {
   "cell_type": "markdown",
   "metadata": {},
   "source": [
    "### Filter buys to only relate to remaining (led to positive) clicks"
   ]
  },
  {
   "cell_type": "code",
   "execution_count": 8,
   "metadata": {},
   "outputs": [
    {
     "name": "stdout",
     "output_type": "stream",
     "text": [
      "== buys ==\n",
      "total obs      : 31,728\n",
      "unique values:\n",
      " sessionID     : 16,551\n",
      " timestamp     : 31,453\n",
      " itemID        : 4,327\n",
      " price         : 348\n",
      " quantity      : 19\n"
     ]
    }
   ],
   "source": [
    "buys = filter_sessions(buys, clicks)\n",
    "print_uniques(buys)"
   ]
  },
  {
   "cell_type": "code",
   "execution_count": 9,
   "metadata": {},
   "outputs": [
    {
     "data": {
      "text/plain": [
       "count    16551.000000\n",
       "mean         6.968642\n",
       "std          6.949923\n",
       "min          1.000000\n",
       "25%          3.000000\n",
       "50%          5.000000\n",
       "75%          9.000000\n",
       "max        121.000000\n",
       "Name: sessionID, dtype: float64"
      ]
     },
     "execution_count": 9,
     "metadata": {},
     "output_type": "execute_result"
    }
   ],
   "source": [
    "# Click count statistics\n",
    "clicks.groupby('sessionID')['sessionID'].count().describe()"
   ]
  },
  {
   "cell_type": "code",
   "execution_count": 10,
   "metadata": {},
   "outputs": [
    {
     "data": {
      "text/html": [
       "<div>\n",
       "<style scoped>\n",
       "    .dataframe tbody tr th:only-of-type {\n",
       "        vertical-align: middle;\n",
       "    }\n",
       "\n",
       "    .dataframe tbody tr th {\n",
       "        vertical-align: top;\n",
       "    }\n",
       "\n",
       "    .dataframe thead th {\n",
       "        text-align: right;\n",
       "    }\n",
       "</style>\n",
       "<table border=\"1\" class=\"dataframe\">\n",
       "  <thead>\n",
       "    <tr style=\"text-align: right;\">\n",
       "      <th></th>\n",
       "      <th>sessionID</th>\n",
       "      <th>timestamp</th>\n",
       "      <th>itemID</th>\n",
       "      <th>category</th>\n",
       "    </tr>\n",
       "  </thead>\n",
       "  <tbody>\n",
       "    <tr>\n",
       "      <th>24</th>\n",
       "      <td>11</td>\n",
       "      <td>2014-04-03T10:44:35.672Z</td>\n",
       "      <td>214821275</td>\n",
       "      <td>0</td>\n",
       "    </tr>\n",
       "    <tr>\n",
       "      <th>25</th>\n",
       "      <td>11</td>\n",
       "      <td>2014-04-03T10:45:01.674Z</td>\n",
       "      <td>214821275</td>\n",
       "      <td>0</td>\n",
       "    </tr>\n",
       "    <tr>\n",
       "      <th>26</th>\n",
       "      <td>11</td>\n",
       "      <td>2014-04-03T10:45:29.873Z</td>\n",
       "      <td>214821371</td>\n",
       "      <td>0</td>\n",
       "    </tr>\n",
       "    <tr>\n",
       "      <th>27</th>\n",
       "      <td>11</td>\n",
       "      <td>2014-04-03T10:46:12.162Z</td>\n",
       "      <td>214821371</td>\n",
       "      <td>0</td>\n",
       "    </tr>\n",
       "    <tr>\n",
       "      <th>28</th>\n",
       "      <td>11</td>\n",
       "      <td>2014-04-03T10:46:57.355Z</td>\n",
       "      <td>214821371</td>\n",
       "      <td>0</td>\n",
       "    </tr>\n",
       "    <tr>\n",
       "      <th>29</th>\n",
       "      <td>11</td>\n",
       "      <td>2014-04-03T10:53:22.572Z</td>\n",
       "      <td>214717089</td>\n",
       "      <td>0</td>\n",
       "    </tr>\n",
       "    <tr>\n",
       "      <th>30</th>\n",
       "      <td>11</td>\n",
       "      <td>2014-04-03T10:53:49.875Z</td>\n",
       "      <td>214563337</td>\n",
       "      <td>0</td>\n",
       "    </tr>\n",
       "    <tr>\n",
       "      <th>31</th>\n",
       "      <td>11</td>\n",
       "      <td>2014-04-03T10:55:19.267Z</td>\n",
       "      <td>214706462</td>\n",
       "      <td>0</td>\n",
       "    </tr>\n",
       "    <tr>\n",
       "      <th>32</th>\n",
       "      <td>11</td>\n",
       "      <td>2014-04-03T10:55:47.327Z</td>\n",
       "      <td>214717436</td>\n",
       "      <td>0</td>\n",
       "    </tr>\n",
       "    <tr>\n",
       "      <th>33</th>\n",
       "      <td>11</td>\n",
       "      <td>2014-04-03T10:56:30.520Z</td>\n",
       "      <td>214743335</td>\n",
       "      <td>0</td>\n",
       "    </tr>\n",
       "    <tr>\n",
       "      <th>34</th>\n",
       "      <td>11</td>\n",
       "      <td>2014-04-03T10:57:19.331Z</td>\n",
       "      <td>214826837</td>\n",
       "      <td>0</td>\n",
       "    </tr>\n",
       "    <tr>\n",
       "      <th>35</th>\n",
       "      <td>11</td>\n",
       "      <td>2014-04-03T10:57:39.433Z</td>\n",
       "      <td>214819762</td>\n",
       "      <td>0</td>\n",
       "    </tr>\n",
       "  </tbody>\n",
       "</table>\n",
       "</div>"
      ],
      "text/plain": [
       "    sessionID                 timestamp     itemID  category\n",
       "24         11  2014-04-03T10:44:35.672Z  214821275         0\n",
       "25         11  2014-04-03T10:45:01.674Z  214821275         0\n",
       "26         11  2014-04-03T10:45:29.873Z  214821371         0\n",
       "27         11  2014-04-03T10:46:12.162Z  214821371         0\n",
       "28         11  2014-04-03T10:46:57.355Z  214821371         0\n",
       "29         11  2014-04-03T10:53:22.572Z  214717089         0\n",
       "30         11  2014-04-03T10:53:49.875Z  214563337         0\n",
       "31         11  2014-04-03T10:55:19.267Z  214706462         0\n",
       "32         11  2014-04-03T10:55:47.327Z  214717436         0\n",
       "33         11  2014-04-03T10:56:30.520Z  214743335         0\n",
       "34         11  2014-04-03T10:57:19.331Z  214826837         0\n",
       "35         11  2014-04-03T10:57:39.433Z  214819762         0"
      ]
     },
     "execution_count": 10,
     "metadata": {},
     "output_type": "execute_result"
    }
   ],
   "source": [
    "clicks[clicks['sessionID'] == 11]"
   ]
  },
  {
   "cell_type": "code",
   "execution_count": 11,
   "metadata": {},
   "outputs": [
    {
     "data": {
      "text/html": [
       "<div>\n",
       "<style scoped>\n",
       "    .dataframe tbody tr th:only-of-type {\n",
       "        vertical-align: middle;\n",
       "    }\n",
       "\n",
       "    .dataframe tbody tr th {\n",
       "        vertical-align: top;\n",
       "    }\n",
       "\n",
       "    .dataframe thead th {\n",
       "        text-align: right;\n",
       "    }\n",
       "</style>\n",
       "<table border=\"1\" class=\"dataframe\">\n",
       "  <thead>\n",
       "    <tr style=\"text-align: right;\">\n",
       "      <th></th>\n",
       "      <th>sessionID</th>\n",
       "      <th>timestamp</th>\n",
       "      <th>itemID</th>\n",
       "      <th>price</th>\n",
       "      <th>quantity</th>\n",
       "    </tr>\n",
       "  </thead>\n",
       "  <tbody>\n",
       "    <tr>\n",
       "      <th>10</th>\n",
       "      <td>11</td>\n",
       "      <td>2014-04-03T11:04:11.417Z</td>\n",
       "      <td>214821371</td>\n",
       "      <td>1046</td>\n",
       "      <td>1</td>\n",
       "    </tr>\n",
       "    <tr>\n",
       "      <th>11</th>\n",
       "      <td>11</td>\n",
       "      <td>2014-04-03T11:04:18.097Z</td>\n",
       "      <td>214821371</td>\n",
       "      <td>1046</td>\n",
       "      <td>1</td>\n",
       "    </tr>\n",
       "  </tbody>\n",
       "</table>\n",
       "</div>"
      ],
      "text/plain": [
       "    sessionID                 timestamp     itemID  price  quantity\n",
       "10         11  2014-04-03T11:04:11.417Z  214821371   1046         1\n",
       "11         11  2014-04-03T11:04:18.097Z  214821371   1046         1"
      ]
     },
     "execution_count": 11,
     "metadata": {},
     "output_type": "execute_result"
    }
   ],
   "source": [
    "buys[buys['sessionID'] == 11]"
   ]
  },
  {
   "cell_type": "code",
   "execution_count": 12,
   "metadata": {},
   "outputs": [
    {
     "name": "stderr",
     "output_type": "stream",
     "text": [
      "/anaconda3/envs/ONE/lib/python3.7/site-packages/sklearn/utils/__init__.py:4: DeprecationWarning: Using or importing the ABCs from 'collections' instead of from 'collections.abc' is deprecated, and in 3.8 it will stop working\n",
      "  from collections import Sequence\n"
     ]
    }
   ],
   "source": [
    "import numpy as np\n",
    "import torch\n",
    "from sklearn.model_selection import train_test_split\n",
    "from torch.utils.data import DataLoader, Dataset\n",
    "import tqdm as tqdm"
   ]
  },
  {
   "cell_type": "code",
   "execution_count": 13,
   "metadata": {},
   "outputs": [],
   "source": [
    "class SessionDataset(Dataset):\n",
    "    def __init__(self, clicks_df, buys_df, \n",
    "                 train_split=0.7, dev_test_split=0.5, random_state=123):\n",
    "        sessionIDs = clicks['sessionID'].unique()\n",
    "        \n",
    "        assert sum(sessionIDs != buys['sessionID'].unique()) == 0, \\\n",
    "            \"sessionIDs of clicks and buys have to match, be sure to filter and sort by sessions ID\"\n",
    "    \n",
    "        print('Indexing... ', flush=True, end='')\n",
    "        sessionIDs = clicks['sessionID'].unique()\n",
    "        clicks_df['idx'] = clicks['sessionID'].apply(lambda x: np.argwhere(sessionIDs==x)[0][0])\n",
    "        buys_df['idx'] = buys['sessionID'].apply(lambda x: np.argwhere(sessionIDs==x)[0][0])\n",
    "        indices = clicks['idx'].unique()\n",
    "        print('Done.', flush=True)\n",
    "        \n",
    "        print('Processing clicks... ', flush=True, end='')\n",
    "        clicks_items = {}\n",
    "        for i in clicks['idx'].unique():\n",
    "            clicks_items[i] = list(clicks_df[clicks_df['idx'] == i]['itemID'])\n",
    "        print('Done.', flush=True)\n",
    "\n",
    "        print('Processing buys... ', flush=True, end='')\n",
    "        buys_items = {}\n",
    "        for i in buys['idx'].unique():\n",
    "            buys_items[i] = list(buys_df[buys_df['idx'] == i]['itemID'])\n",
    "        print('Done.', flush=True)\n",
    "        \n",
    "        self.items = np.unique(np.concatenate([clicks['itemID'], buys['itemID']]))\n",
    "        self.item_to_i= {}\n",
    "        self.i_to_item= {}\n",
    "        for i, k in enumerate(self.items):\n",
    "            self.item_to_i[k] = i\n",
    "            self.i_to_item[i] = k\n",
    "        self.nitems = len(self.items)\n",
    "        \n",
    "        self.X_train, X_left = train_test_split(\n",
    "            indices, test_size=1-train_split, random_state=random_state, shuffle=True)\n",
    "\n",
    "        self.X_val, self.X_test = train_test_split(\n",
    "            X_left, test_size=dev_test_split, random_state=random_state, shuffle=True)\n",
    "        \n",
    "        self.clicks_items_train = {i: clicks_items[k] for i,k in enumerate(self.X_train)}\n",
    "        self.clicks_items_val = {i: clicks_items[k] for i,k in enumerate(self.X_val)}\n",
    "        self.clicks_items_test = {i: clicks_items[k] for i,k in enumerate(self.X_test)}\n",
    " \n",
    "        self.buys_items_train = {i: buys_items[k] for i,k in enumerate(self.X_train)}\n",
    "        self.buys_items_val = {i: buys_items[k] for i,k in enumerate(self.X_val)}\n",
    "        self.buys_items_test = {i: buys_items[k] for i,k in enumerate(self.X_test)}\n",
    "        \n",
    "        self._lookup_dict = {'train': (self.clicks_items_train, self.buys_items_train),\n",
    "                             'val': (self.clicks_items_val, self.buys_items_val),\n",
    "                             'test': (self.clicks_items_test, self.buys_items_test)}\n",
    "        \n",
    "        self.set_split('train')\n",
    "        \n",
    "    def __len__(self):\n",
    "        return len(self._lookup_dict[self._split][0])\n",
    "        \n",
    "    def set_split(self, split):\n",
    "        self._split = split\n",
    "    \n",
    "    def __getitem__(self, index):\n",
    "        clicks_items, buys_items = self._lookup_dict[self._split]\n",
    "        \n",
    "        one_hot_clicks = np.zeros(self.nitems)\n",
    "        \n",
    "        for item in clicks_items[index]:\n",
    "            one_hot_clicks[self.item_to_i[item]] = 1\n",
    "            \n",
    "        first_item_bought = self.item_to_i[buys_items[index][0]]\n",
    "        \n",
    "        return {'idx': index,\n",
    "                'x_data': torch.tensor(one_hot_clicks).float(),\n",
    "                'y_target': torch.tensor(first_item_bought).view(-1)}\n",
    "    \n",
    "    def getitem_raw(self, index):\n",
    "        clicks_items, buys_items = self._lookup_dict[self._split]\n",
    "        \n",
    "        return {'idx': index,\n",
    "                'x_data': clicks_items[index],\n",
    "                'y_target': buys_items[index]}\n",
    "        \n",
    "    def __str__(self):\n",
    "        strval = 'sessions in ' + self._split + ': {:,}'.format(len(self._lookup_dict[self._split][0])) + '\\n'\n",
    "        strval += 'items in ' + self._split + ': {:,}'.format(self.nitems)\n",
    "        return strval"
   ]
  },
  {
   "cell_type": "code",
   "execution_count": 14,
   "metadata": {},
   "outputs": [
    {
     "name": "stdout",
     "output_type": "stream",
     "text": [
      "Indexing... Done.\n",
      "Processing clicks... Done.\n",
      "Processing buys... Done.\n"
     ]
    }
   ],
   "source": [
    "dataset = SessionDataset(clicks, buys)"
   ]
  },
  {
   "cell_type": "code",
   "execution_count": 15,
   "metadata": {},
   "outputs": [
    {
     "name": "stdout",
     "output_type": "stream",
     "text": [
      "sessions in train: 11,585\n",
      "items in train: 9,038\n"
     ]
    }
   ],
   "source": [
    "print(dataset)"
   ]
  },
  {
   "cell_type": "code",
   "execution_count": 16,
   "metadata": {},
   "outputs": [],
   "source": [
    "batch_size = 16\n",
    "dataloader = DataLoader(dataset=dataset, batch_size=batch_size,\n",
    "                        drop_last=False, shuffle=True)"
   ]
  },
  {
   "cell_type": "code",
   "execution_count": 17,
   "metadata": {},
   "outputs": [
    {
     "name": "stdout",
     "output_type": "stream",
     "text": [
      "tensor(3212)\n",
      "tensor(5.)\n",
      "tensor([7534])\n",
      "{'idx': tensor([ 3212,  2470, 10432,  7665,  5191,  4245,  3917,  1374,  5342,  9561,\n",
      "         8737,  9021,  3124, 10444,  2195,   887]), 'x_data': tensor([[0., 0., 0.,  ..., 0., 0., 0.],\n",
      "        [0., 0., 0.,  ..., 0., 0., 0.],\n",
      "        [0., 0., 0.,  ..., 0., 0., 0.],\n",
      "        ...,\n",
      "        [0., 0., 0.,  ..., 0., 0., 0.],\n",
      "        [0., 0., 0.,  ..., 0., 0., 0.],\n",
      "        [0., 0., 0.,  ..., 0., 0., 0.]]), 'y_target': tensor([[7534],\n",
      "        [7784],\n",
      "        [7368],\n",
      "        [7032],\n",
      "        [2601],\n",
      "        [ 157],\n",
      "        [7618],\n",
      "        [6260],\n",
      "        [5369],\n",
      "        [4824],\n",
      "        [5873],\n",
      "        [7406],\n",
      "        [6619],\n",
      "        [7053],\n",
      "        [6637],\n",
      "        [2802]])}\n"
     ]
    }
   ],
   "source": [
    "for i in dataloader:\n",
    "    idx = i['idx'][0].item()\n",
    "    print(i['idx'][0])\n",
    "    print(sum(i['x_data'][0]))\n",
    "    print(i['y_target'][0])\n",
    "    print(i)\n",
    "    break"
   ]
  },
  {
   "cell_type": "code",
   "execution_count": 18,
   "metadata": {},
   "outputs": [
    {
     "data": {
      "text/plain": [
       "3212"
      ]
     },
     "execution_count": 18,
     "metadata": {},
     "output_type": "execute_result"
    }
   ],
   "source": [
    "idx"
   ]
  },
  {
   "cell_type": "code",
   "execution_count": 19,
   "metadata": {},
   "outputs": [
    {
     "data": {
      "text/html": [
       "<div>\n",
       "<style scoped>\n",
       "    .dataframe tbody tr th:only-of-type {\n",
       "        vertical-align: middle;\n",
       "    }\n",
       "\n",
       "    .dataframe tbody tr th {\n",
       "        vertical-align: top;\n",
       "    }\n",
       "\n",
       "    .dataframe thead th {\n",
       "        text-align: right;\n",
       "    }\n",
       "</style>\n",
       "<table border=\"1\" class=\"dataframe\">\n",
       "  <thead>\n",
       "    <tr style=\"text-align: right;\">\n",
       "      <th></th>\n",
       "      <th>sessionID</th>\n",
       "      <th>timestamp</th>\n",
       "      <th>itemID</th>\n",
       "      <th>category</th>\n",
       "      <th>idx</th>\n",
       "    </tr>\n",
       "  </thead>\n",
       "  <tbody>\n",
       "    <tr>\n",
       "      <th>669230</th>\n",
       "      <td>198889</td>\n",
       "      <td>2014-04-06T17:47:21.655Z</td>\n",
       "      <td>214827005</td>\n",
       "      <td>0</td>\n",
       "      <td>10313</td>\n",
       "    </tr>\n",
       "    <tr>\n",
       "      <th>669231</th>\n",
       "      <td>198889</td>\n",
       "      <td>2014-04-06T17:47:22.062Z</td>\n",
       "      <td>214827005</td>\n",
       "      <td>0</td>\n",
       "      <td>10313</td>\n",
       "    </tr>\n",
       "    <tr>\n",
       "      <th>669232</th>\n",
       "      <td>198889</td>\n",
       "      <td>2014-04-06T17:47:22.785Z</td>\n",
       "      <td>214827005</td>\n",
       "      <td>0</td>\n",
       "      <td>10313</td>\n",
       "    </tr>\n",
       "    <tr>\n",
       "      <th>669233</th>\n",
       "      <td>198889</td>\n",
       "      <td>2014-04-06T17:48:14.282Z</td>\n",
       "      <td>214827007</td>\n",
       "      <td>0</td>\n",
       "      <td>10313</td>\n",
       "    </tr>\n",
       "    <tr>\n",
       "      <th>669234</th>\n",
       "      <td>198889</td>\n",
       "      <td>2014-04-06T17:48:14.879Z</td>\n",
       "      <td>214827007</td>\n",
       "      <td>0</td>\n",
       "      <td>10313</td>\n",
       "    </tr>\n",
       "    <tr>\n",
       "      <th>669235</th>\n",
       "      <td>198889</td>\n",
       "      <td>2014-04-06T17:48:15.388Z</td>\n",
       "      <td>214827007</td>\n",
       "      <td>0</td>\n",
       "      <td>10313</td>\n",
       "    </tr>\n",
       "    <tr>\n",
       "      <th>669236</th>\n",
       "      <td>198889</td>\n",
       "      <td>2014-04-06T17:48:43.735Z</td>\n",
       "      <td>214827007</td>\n",
       "      <td>0</td>\n",
       "      <td>10313</td>\n",
       "    </tr>\n",
       "    <tr>\n",
       "      <th>669237</th>\n",
       "      <td>198889</td>\n",
       "      <td>2014-04-06T17:48:44.387Z</td>\n",
       "      <td>214827007</td>\n",
       "      <td>0</td>\n",
       "      <td>10313</td>\n",
       "    </tr>\n",
       "    <tr>\n",
       "      <th>669238</th>\n",
       "      <td>198889</td>\n",
       "      <td>2014-04-06T17:49:03.398Z</td>\n",
       "      <td>214834865</td>\n",
       "      <td>0</td>\n",
       "      <td>10313</td>\n",
       "    </tr>\n",
       "    <tr>\n",
       "      <th>669239</th>\n",
       "      <td>198889</td>\n",
       "      <td>2014-04-06T17:49:50.765Z</td>\n",
       "      <td>214834865</td>\n",
       "      <td>0</td>\n",
       "      <td>10313</td>\n",
       "    </tr>\n",
       "    <tr>\n",
       "      <th>669240</th>\n",
       "      <td>198889</td>\n",
       "      <td>2014-04-06T17:49:51.366Z</td>\n",
       "      <td>214834865</td>\n",
       "      <td>0</td>\n",
       "      <td>10313</td>\n",
       "    </tr>\n",
       "    <tr>\n",
       "      <th>669241</th>\n",
       "      <td>198889</td>\n",
       "      <td>2014-04-06T17:50:02.631Z</td>\n",
       "      <td>214826925</td>\n",
       "      <td>0</td>\n",
       "      <td>10313</td>\n",
       "    </tr>\n",
       "    <tr>\n",
       "      <th>669242</th>\n",
       "      <td>198889</td>\n",
       "      <td>2014-04-06T17:50:06.205Z</td>\n",
       "      <td>214826925</td>\n",
       "      <td>0</td>\n",
       "      <td>10313</td>\n",
       "    </tr>\n",
       "    <tr>\n",
       "      <th>669243</th>\n",
       "      <td>198889</td>\n",
       "      <td>2014-04-06T17:50:07.136Z</td>\n",
       "      <td>214826925</td>\n",
       "      <td>0</td>\n",
       "      <td>10313</td>\n",
       "    </tr>\n",
       "    <tr>\n",
       "      <th>669244</th>\n",
       "      <td>198889</td>\n",
       "      <td>2014-04-06T17:50:30.778Z</td>\n",
       "      <td>214826925</td>\n",
       "      <td>0</td>\n",
       "      <td>10313</td>\n",
       "    </tr>\n",
       "    <tr>\n",
       "      <th>669245</th>\n",
       "      <td>198889</td>\n",
       "      <td>2014-04-06T17:50:31.406Z</td>\n",
       "      <td>214826925</td>\n",
       "      <td>0</td>\n",
       "      <td>10313</td>\n",
       "    </tr>\n",
       "    <tr>\n",
       "      <th>669246</th>\n",
       "      <td>198889</td>\n",
       "      <td>2014-04-06T17:50:32.057Z</td>\n",
       "      <td>214826925</td>\n",
       "      <td>0</td>\n",
       "      <td>10313</td>\n",
       "    </tr>\n",
       "    <tr>\n",
       "      <th>669247</th>\n",
       "      <td>198889</td>\n",
       "      <td>2014-04-06T17:51:54.273Z</td>\n",
       "      <td>214827000</td>\n",
       "      <td>0</td>\n",
       "      <td>10313</td>\n",
       "    </tr>\n",
       "  </tbody>\n",
       "</table>\n",
       "</div>"
      ],
      "text/plain": [
       "        sessionID                 timestamp     itemID  category    idx\n",
       "669230     198889  2014-04-06T17:47:21.655Z  214827005         0  10313\n",
       "669231     198889  2014-04-06T17:47:22.062Z  214827005         0  10313\n",
       "669232     198889  2014-04-06T17:47:22.785Z  214827005         0  10313\n",
       "669233     198889  2014-04-06T17:48:14.282Z  214827007         0  10313\n",
       "669234     198889  2014-04-06T17:48:14.879Z  214827007         0  10313\n",
       "669235     198889  2014-04-06T17:48:15.388Z  214827007         0  10313\n",
       "669236     198889  2014-04-06T17:48:43.735Z  214827007         0  10313\n",
       "669237     198889  2014-04-06T17:48:44.387Z  214827007         0  10313\n",
       "669238     198889  2014-04-06T17:49:03.398Z  214834865         0  10313\n",
       "669239     198889  2014-04-06T17:49:50.765Z  214834865         0  10313\n",
       "669240     198889  2014-04-06T17:49:51.366Z  214834865         0  10313\n",
       "669241     198889  2014-04-06T17:50:02.631Z  214826925         0  10313\n",
       "669242     198889  2014-04-06T17:50:06.205Z  214826925         0  10313\n",
       "669243     198889  2014-04-06T17:50:07.136Z  214826925         0  10313\n",
       "669244     198889  2014-04-06T17:50:30.778Z  214826925         0  10313\n",
       "669245     198889  2014-04-06T17:50:31.406Z  214826925         0  10313\n",
       "669246     198889  2014-04-06T17:50:32.057Z  214826925         0  10313\n",
       "669247     198889  2014-04-06T17:51:54.273Z  214827000         0  10313"
      ]
     },
     "execution_count": 19,
     "metadata": {},
     "output_type": "execute_result"
    }
   ],
   "source": [
    "clicks[clicks['idx'] == dataset.X_train[idx]]"
   ]
  },
  {
   "cell_type": "code",
   "execution_count": 20,
   "metadata": {},
   "outputs": [
    {
     "data": {
      "text/html": [
       "<div>\n",
       "<style scoped>\n",
       "    .dataframe tbody tr th:only-of-type {\n",
       "        vertical-align: middle;\n",
       "    }\n",
       "\n",
       "    .dataframe tbody tr th {\n",
       "        vertical-align: top;\n",
       "    }\n",
       "\n",
       "    .dataframe thead th {\n",
       "        text-align: right;\n",
       "    }\n",
       "</style>\n",
       "<table border=\"1\" class=\"dataframe\">\n",
       "  <thead>\n",
       "    <tr style=\"text-align: right;\">\n",
       "      <th></th>\n",
       "      <th>sessionID</th>\n",
       "      <th>timestamp</th>\n",
       "      <th>itemID</th>\n",
       "      <th>price</th>\n",
       "      <th>quantity</th>\n",
       "      <th>idx</th>\n",
       "    </tr>\n",
       "  </thead>\n",
       "  <tbody>\n",
       "    <tr>\n",
       "      <th>13002</th>\n",
       "      <td>198889</td>\n",
       "      <td>2014-04-06T18:21:28.741Z</td>\n",
       "      <td>214827007</td>\n",
       "      <td>837</td>\n",
       "      <td>1</td>\n",
       "      <td>10313</td>\n",
       "    </tr>\n",
       "    <tr>\n",
       "      <th>13003</th>\n",
       "      <td>198889</td>\n",
       "      <td>2014-04-06T18:21:29.023Z</td>\n",
       "      <td>214834865</td>\n",
       "      <td>523</td>\n",
       "      <td>1</td>\n",
       "      <td>10313</td>\n",
       "    </tr>\n",
       "    <tr>\n",
       "      <th>13004</th>\n",
       "      <td>198889</td>\n",
       "      <td>2014-04-06T18:21:29.079Z</td>\n",
       "      <td>214826925</td>\n",
       "      <td>837</td>\n",
       "      <td>1</td>\n",
       "      <td>10313</td>\n",
       "    </tr>\n",
       "    <tr>\n",
       "      <th>13005</th>\n",
       "      <td>198889</td>\n",
       "      <td>2014-04-06T18:21:29.471Z</td>\n",
       "      <td>214827007</td>\n",
       "      <td>837</td>\n",
       "      <td>1</td>\n",
       "      <td>10313</td>\n",
       "    </tr>\n",
       "    <tr>\n",
       "      <th>13006</th>\n",
       "      <td>198889</td>\n",
       "      <td>2014-04-06T18:21:29.648Z</td>\n",
       "      <td>214834865</td>\n",
       "      <td>523</td>\n",
       "      <td>1</td>\n",
       "      <td>10313</td>\n",
       "    </tr>\n",
       "    <tr>\n",
       "      <th>13007</th>\n",
       "      <td>198889</td>\n",
       "      <td>2014-04-06T18:21:29.718Z</td>\n",
       "      <td>214826925</td>\n",
       "      <td>837</td>\n",
       "      <td>1</td>\n",
       "      <td>10313</td>\n",
       "    </tr>\n",
       "  </tbody>\n",
       "</table>\n",
       "</div>"
      ],
      "text/plain": [
       "       sessionID                 timestamp     itemID  price  quantity    idx\n",
       "13002     198889  2014-04-06T18:21:28.741Z  214827007    837         1  10313\n",
       "13003     198889  2014-04-06T18:21:29.023Z  214834865    523         1  10313\n",
       "13004     198889  2014-04-06T18:21:29.079Z  214826925    837         1  10313\n",
       "13005     198889  2014-04-06T18:21:29.471Z  214827007    837         1  10313\n",
       "13006     198889  2014-04-06T18:21:29.648Z  214834865    523         1  10313\n",
       "13007     198889  2014-04-06T18:21:29.718Z  214826925    837         1  10313"
      ]
     },
     "execution_count": 20,
     "metadata": {},
     "output_type": "execute_result"
    }
   ],
   "source": [
    "buys[buys['idx'] == dataset.X_train[idx]]"
   ]
  },
  {
   "cell_type": "code",
   "execution_count": 21,
   "metadata": {},
   "outputs": [],
   "source": [
    "from torch import nn\n",
    "import torch.nn.functional as F"
   ]
  },
  {
   "cell_type": "code",
   "execution_count": 22,
   "metadata": {},
   "outputs": [],
   "source": [
    "class productMLP(nn.Module):\n",
    "    def __init__(self, input_size, h_sizes, output_size):\n",
    "        super(productMLP, self).__init__()\n",
    "        \n",
    "        self.fc1 = nn.Linear(input_size, h_sizes[0])\n",
    "        \n",
    "        self.hidden = nn.ModuleList()\n",
    "        for i in range(len(h_sizes)-1):\n",
    "            self.hidden.append(nn.Linear(h_sizes[i], h_sizes[i+1]))\n",
    "            \n",
    "        self.last = nn.Linear(h_sizes[i], output_size)\n",
    "        \n",
    "    def forward(self, inputs):\n",
    "        \n",
    "        x = F.relu(self.fc1(inputs))\n",
    "        for h in self.hidden:\n",
    "            x = F.relu(h(x))\n",
    "        output = self.last(x)\n",
    "        \n",
    "        return output"
   ]
  },
  {
   "cell_type": "code",
   "execution_count": 23,
   "metadata": {},
   "outputs": [],
   "source": [
    "model = productMLP(dataset.nitems, [100,100], dataset.nitems)"
   ]
  },
  {
   "cell_type": "code",
   "execution_count": 24,
   "metadata": {},
   "outputs": [
    {
     "name": "stdout",
     "output_type": "stream",
     "text": [
      "productMLP(\n",
      "  (fc1): Linear(in_features=9038, out_features=100, bias=True)\n",
      "  (hidden): ModuleList(\n",
      "    (0): Linear(in_features=100, out_features=100, bias=True)\n",
      "  )\n",
      "  (last): Linear(in_features=100, out_features=9038, bias=True)\n",
      ")\n"
     ]
    }
   ],
   "source": [
    "print(model)"
   ]
  },
  {
   "cell_type": "code",
   "execution_count": 25,
   "metadata": {},
   "outputs": [],
   "source": [
    "data = next(iter(dataloader))"
   ]
  },
  {
   "cell_type": "code",
   "execution_count": 26,
   "metadata": {},
   "outputs": [],
   "source": [
    "x_data = data['x_data']\n",
    "y_target = data['y_target']"
   ]
  },
  {
   "cell_type": "code",
   "execution_count": 27,
   "metadata": {},
   "outputs": [
    {
     "data": {
      "text/plain": [
       "tensor([[ 0.0576, -0.0649,  0.0051,  ..., -0.1050, -0.0360,  0.0554],\n",
       "        [ 0.0605, -0.0638,  0.0063,  ..., -0.1079, -0.0352,  0.0567],\n",
       "        [ 0.0606, -0.0648,  0.0081,  ..., -0.1058, -0.0381,  0.0579],\n",
       "        ...,\n",
       "        [ 0.0593, -0.0603,  0.0078,  ..., -0.1018, -0.0340,  0.0541],\n",
       "        [ 0.0601, -0.0632,  0.0080,  ..., -0.1051, -0.0371,  0.0557],\n",
       "        [ 0.0601, -0.0636,  0.0074,  ..., -0.1070, -0.0380,  0.0568]],\n",
       "       grad_fn=<ThAddmmBackward>)"
      ]
     },
     "execution_count": 27,
     "metadata": {},
     "output_type": "execute_result"
    }
   ],
   "source": [
    "y_predict = model(x_data)\n",
    "y_predict"
   ]
  },
  {
   "cell_type": "code",
   "execution_count": 28,
   "metadata": {},
   "outputs": [],
   "source": [
    "ce_loss = nn.CrossEntropyLoss()"
   ]
  },
  {
   "cell_type": "code",
   "execution_count": 29,
   "metadata": {},
   "outputs": [
    {
     "data": {
      "text/plain": [
       "tensor([2353, 6065, 7389, 6953, 7427, 3113, 7477, 8938, 3992,  661, 8713, 7412,\n",
       "        7494, 6797, 4838, 1330])"
      ]
     },
     "execution_count": 29,
     "metadata": {},
     "output_type": "execute_result"
    }
   ],
   "source": [
    "y_target.view(-1)"
   ]
  },
  {
   "cell_type": "code",
   "execution_count": 30,
   "metadata": {},
   "outputs": [
    {
     "data": {
      "text/plain": [
       "torch.Size([16, 9038])"
      ]
     },
     "execution_count": 30,
     "metadata": {},
     "output_type": "execute_result"
    }
   ],
   "source": [
    "y_predict.shape"
   ]
  },
  {
   "cell_type": "code",
   "execution_count": 31,
   "metadata": {},
   "outputs": [],
   "source": [
    "loss = ce_loss(y_predict, y_target.view(-1))"
   ]
  },
  {
   "cell_type": "code",
   "execution_count": 32,
   "metadata": {},
   "outputs": [
    {
     "data": {
      "text/plain": [
       "tensor(9.1115, grad_fn=<NllLossBackward>)"
      ]
     },
     "execution_count": 32,
     "metadata": {},
     "output_type": "execute_result"
    }
   ],
   "source": [
    "loss"
   ]
  },
  {
   "cell_type": "code",
   "execution_count": 33,
   "metadata": {},
   "outputs": [],
   "source": [
    "from torch.optim import Adam"
   ]
  },
  {
   "cell_type": "code",
   "execution_count": 34,
   "metadata": {},
   "outputs": [],
   "source": [
    "optim = Adam(params=model.parameters(), lr=0.01)\n",
    "batch_size = 16"
   ]
  },
  {
   "cell_type": "code",
   "execution_count": 35,
   "metadata": {},
   "outputs": [],
   "source": [
    "def run_batch(model, runtype='train', device=torch.device('cpu')):\n",
    "    \n",
    "    model.to(device)\n",
    "    \n",
    "    if runtype == 'train':\n",
    "        model.train()\n",
    "    dataset.set_split(runtype)\n",
    "    batch_size = 16\n",
    "    dataloader = DataLoader(dataset=dataset, batch_size=batch_size,\n",
    "                            drop_last=False, shuffle=True)\n",
    "    \n",
    "    running_loss = 0\n",
    "    \n",
    "    for data in dataloader:\n",
    "\n",
    "        model.zero_grad()\n",
    "        \n",
    "        x_data = data['x_data'].to(device)\n",
    "        y_target = data['y_target'].to(device)\n",
    "    \n",
    "        y_predict = model(x_data)\n",
    "        \n",
    "        loss = ce_loss(y_predict, y_target.view(-1))\n",
    "        \n",
    "        running_loss += loss.item()\n",
    "        \n",
    "        loss.backward()\n",
    "        \n",
    "        optim.step()\n",
    "        \n",
    "    running_loss /= len(dataset)\n",
    "    \n",
    "    return running_loss"
   ]
  },
  {
   "cell_type": "code",
   "execution_count": null,
   "metadata": {},
   "outputs": [
    {
     "name": "stdout",
     "output_type": "stream",
     "text": [
      "1 0.3828 0.3437\n",
      "2 0.2703 0.2777\n",
      "3 0.231 0.2401\n",
      "4 0.2081 0.2236\n",
      "5 0.1919 0.2049\n",
      "6 0.1818 0.1898\n",
      "7 0.1756 0.1823\n",
      "8 0.1714 0.1814\n",
      "9 0.1628 0.1753\n",
      "10 0.1618 0.169\n"
     ]
    }
   ],
   "source": [
    "EPOCHS = 30\n",
    "hist = []\n",
    "for epoch in range(EPOCHS):\n",
    "    loss_train = run_batch(model, 'train')\n",
    "    loss_val = run_batch(model, 'val')\n",
    "    print('{} {:.4} {:.4}'.format(epoch+1, loss_train, loss_val))\n",
    "    hist.append((loss_train, loss_val))"
   ]
  },
  {
   "cell_type": "code",
   "execution_count": null,
   "metadata": {},
   "outputs": [],
   "source": [
    "hist = np.array(hist)\n",
    "plt.plot(hist[:,0], 'r', hist[:,1], 'g')"
   ]
  },
  {
   "cell_type": "code",
   "execution_count": null,
   "metadata": {},
   "outputs": [],
   "source": []
  }
 ],
 "metadata": {
  "kernelspec": {
   "display_name": "Python 3",
   "language": "python",
   "name": "python3"
  },
  "language_info": {
   "codemirror_mode": {
    "name": "ipython",
    "version": 3
   },
   "file_extension": ".py",
   "mimetype": "text/x-python",
   "name": "python",
   "nbconvert_exporter": "python",
   "pygments_lexer": "ipython3",
   "version": "3.7.1"
  }
 },
 "nbformat": 4,
 "nbformat_minor": 2
}
